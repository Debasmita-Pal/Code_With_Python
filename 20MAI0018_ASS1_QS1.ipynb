{
  "nbformat": 4,
  "nbformat_minor": 0,
  "metadata": {
    "colab": {
      "name": "20MAI0018_ASS1_QS1.ipynb",
      "provenance": [],
      "collapsed_sections": [],
      "authorship_tag": "ABX9TyOjhaXJwPYtYx5k/DbKHFog",
      "include_colab_link": true
    },
    "kernelspec": {
      "name": "python3",
      "display_name": "Python 3"
    }
  },
  "cells": [
    {
      "cell_type": "markdown",
      "metadata": {
        "id": "view-in-github",
        "colab_type": "text"
      },
      "source": [
        "<a href=\"https://colab.research.google.com/github/Debasmita-Pal/Single_Layer_Perceptron/blob/main/20MAI0018_ASS1_QS1.ipynb\" target=\"_parent\"><img src=\"https://colab.research.google.com/assets/colab-badge.svg\" alt=\"Open In Colab\"/></a>"
      ]
    },
    {
      "cell_type": "code",
      "metadata": {
        "colab": {
          "base_uri": "https://localhost:8080/"
        },
        "id": "D2nO8sbsg6P9",
        "outputId": "ee89ac35-f2e0-4dbd-bb5c-ce012797ed9f"
      },
      "source": [
        "import numpy as np\r\n",
        "\r\n",
        "class Perceptron(object):\r\n",
        "\r\n",
        "    def __init__(self, no_of_inputs, threshold=100, learning_rate=0.01):\r\n",
        "        self.threshold = threshold\r\n",
        "        self.learning_rate = learning_rate\r\n",
        "        self.weights = np.zeros(no_of_inputs + 1)\r\n",
        "\r\n",
        "    def predict(self, inputs):\r\n",
        "        summation = np.dot(inputs, self.weights[1:]) + self.weights[0]\r\n",
        "        if summation > 0:\r\n",
        "            activation = 1\r\n",
        "        else:\r\n",
        "            activation = 0\r\n",
        "        return activation\r\n",
        "\r\n",
        "    def train(self, training_inputs, labels):\r\n",
        "        for _ in range(self.threshold):\r\n",
        "            for inputs, label in zip(training_inputs, labels):\r\n",
        "                prediction = self.predict(inputs)\r\n",
        "                self.weights[1:] += self.learning_rate * (label - prediction) * inputs\r\n",
        "                self.weights[0] += self.learning_rate * (label - prediction)\r\n",
        "\r\n",
        "def main():\r\n",
        "  training_inputs= np.array([[1,2,3],[4,5,6],[7,8,9]])\r\n",
        "  \r\n",
        "  labels=np.array([0,1,1])\r\n",
        "  perceptron=Perceptron(no_of_inputs=3)\r\n",
        "  perceptron.train(training_inputs, labels)\r\n",
        "\r\n",
        "  print(\"REG NO : 20MAI0018\")\r\n",
        "  inputs = np.array([1,2,3])\r\n",
        "  print(perceptron.predict(inputs))\r\n",
        "\r\n",
        "\r\n",
        "  inputs = np.array([4,5,6])\r\n",
        "  print(perceptron.predict(inputs))\r\n",
        "\r\n",
        "  inputs = np.array([4,7,8])\r\n",
        "  print(perceptron.predict(inputs))\r\n",
        "\r\n",
        "\r\n",
        "main()             "
      ],
      "execution_count": 1,
      "outputs": [
        {
          "output_type": "stream",
          "text": [
            "REG NO : 20MAI0018\n",
            "0\n",
            "1\n",
            "0\n"
          ],
          "name": "stdout"
        }
      ]
    }
  ]
}